{
 "cells": [
  {
   "cell_type": "markdown",
   "metadata": {},
   "source": [
    "# workbook B: lists and strings\n",
    "\n",
    "This activity builds on the Python you have become familiar with in *Chapter 2 Python list* from the\n",
    "[DataCamp online course *Intro to Python for Data Science*](https://www.datacamp.com/courses/intro-to-python-for-data-science). Here we will look at lists and explore how strings and lists are related."
   ]
  },
  {
   "cell_type": "markdown",
   "metadata": {
    "collapsed": true
   },
   "source": [
    "> ### Reminder: saving your work\n",
    ">\n",
    "> As you work through the work book it is important to regularly save your work. Notice that as you have made  changes the Jupyter window top line will warn you there are `(unsaved changes)` in small text. To save your work in this notebook by either select menu item `File` `Save` or by hit the save button:\n",
    "> \n",
    "> <img src=\"./images/save_button.png\"/>\n",
    ">\n",
    "> \n",
    "> ### Reminder: getting help \n",
    "> Please see the page:\n",
    "> [Help with programming](https://canvas.anglia.ac.uk/courses/1490/pages/help-with-programming)\n",
    "> on ARU Canvas."
   ]
  },
  {
   "cell_type": "markdown",
   "metadata": {},
   "source": [
    "## Python Lists: defining lists\n",
    "Why do we need lists? Lists are useful for keeping a collection of things in order. \n",
    "\n",
    "So suppose we wanted to store information about the number \n",
    "of chromosomes for a few selected species:\n",
    "\n",
    "| Organism          | Scientific name         | Chromosome number |\n",
    "| --------          | :--------------:        | :---------------: |\n",
    "| fruit fly         | Drosophila melanogaster | 8   |\n",
    "| rice              | Oryza sativa            | 24  |\n",
    "| mouse             | Mus musculus            | 30  |\n",
    "| wheat             | Triticum aestivum       | 42  |\n",
    "| human             | Homo sapiens            | 46  |\n",
    "| potato            | Solanum tuberosum       | 48  |\n",
    "| great white shark | Carcharodon carcharias  | 82  |\n",
    "| carp              | Carassius carassius     | 100 |\n",
    "> *information from https://en.wikipedia.org/wiki/List_of_organisms_by_chromosome_count*"
   ]
  },
  {
   "cell_type": "markdown",
   "metadata": {},
   "source": [
    "We can store the list of organisms in a Python list:"
   ]
  },
  {
   "cell_type": "code",
   "execution_count": 1,
   "metadata": {
    "collapsed": true
   },
   "outputs": [],
   "source": [
    "organisms = ['fly', 'rice', 'mouse', 'wheat', 'human', 'potato', 'shark', 'carp']\n",
    "# Instruction: add Python command to print organisms list\n",
    "### your line here! "
   ]
  },
  {
   "cell_type": "markdown",
   "metadata": {},
   "source": [
    "Notice the use of square brackets `[]` in both the list definition and when the list is the printed."
   ]
  },
  {
   "cell_type": "markdown",
   "metadata": {},
   "source": [
    "**Now its your turn.** Create a list `chromosomes` that contains information from the table above about the number of chromosomes for each species."
   ]
  },
  {
   "cell_type": "code",
   "execution_count": 2,
   "metadata": {},
   "outputs": [],
   "source": [
    "# Instruction: define a Python list 'chromosomes' with \n",
    "# the number of chromosomes from table above (as integers)\n",
    "### your line here! \n",
    "\n",
    "# Instruction: now print your chromosomes list\n",
    "### your line here! "
   ]
  },
  {
   "cell_type": "markdown",
   "metadata": {},
   "source": [
    "Now run the following following Python that checks the chromosomes list is as it is expected (do not worry about understanding it - for now)."
   ]
  },
  {
   "cell_type": "code",
   "execution_count": 3,
   "metadata": {},
   "outputs": [
    {
     "name": "stdout",
     "output_type": "stream",
     "text": [
      "Error: chromosomes variable has not been defined! Try again!\n"
     ]
    }
   ],
   "source": [
    "# Instruction: run this cell to check your chromosomes list\n",
    "\n",
    "# python code to check chromosomes list as described above\n",
    "# do not worry about understanding it yet - it just shows what can be done\n",
    "if 'chromosomes' not in locals():\n",
    "    print('Error: chromosomes variable has not been defined! Try again!')\n",
    "elif not isinstance(chromosomes, list):\n",
    "    print('Error: chromosomes is not a list! Try again!')\n",
    "elif len(chromosomes) != 8:\n",
    "    print('Error: chromosomes list does not have 8 elements! Try again!')\n",
    "elif sum(chromosomes) != 380:\n",
    "    print('Error: chromosomes list does not have expected sum! Try again!')\n",
    "else:\n",
    "    print('Well done chomosomes list checks out!')"
   ]
  },
  {
   "cell_type": "markdown",
   "metadata": {},
   "source": [
    "### Appending items to a list"
   ]
  },
  {
   "cell_type": "markdown",
   "metadata": {},
   "source": [
    "You can append extra items to a list. \n",
    "So to define a list of scientific names we could start with an empty list and append the names one by one:"
   ]
  },
  {
   "cell_type": "code",
   "execution_count": 4,
   "metadata": {},
   "outputs": [],
   "source": [
    "scientific = []  # empty list\n",
    "scientific.append('Drosophila melanogaster')\n",
    "scientific.append('Oryza sativa')\n",
    "scientific.append('Mus musculus')\n",
    "scientific.append('Triticum aestivum')\n",
    "scientific = scientific + ['Homo sapiens',  \n",
    "                           'Solanum tuberosum', \n",
    "                           'Carcharodon carcharias',\n",
    "                           'Carassius carassius']\n",
    "# Instruction: add Python command to print scientific\n",
    "### your line here! "
   ]
  },
  {
   "cell_type": "markdown",
   "metadata": {},
   "source": [
    "Notice that the last four scientific names have been added by concatenating (joining) two lists together - the result is a new list.\n",
    "\n",
    "The concatentation command above could be more simplified by using the `+=` operator: \n",
    "```\n",
    "scientific += ['Homo sapiens', 'Solanum tuberosum', \n",
    "               'Carcharodon carcharias', 'Carassius carassius']\n",
    "```"
   ]
  },
  {
   "cell_type": "markdown",
   "metadata": {},
   "source": [
    "**Now it is your turn.** From https://en.wikipedia.org/wiki/List_of_organisms_by_chromosome_count The `Red king crab` (`Paralithodes camtschaticus`) has `208` chromosomes. Lets add this information to the lists."
   ]
  },
  {
   "cell_type": "code",
   "execution_count": 5,
   "metadata": {},
   "outputs": [
    {
     "name": "stdout",
     "output_type": "stream",
     "text": [
      "Well done organisms now has a king crab in it:\n",
      " ['fly', 'rice', 'mouse', 'wheat', 'human', 'potato', 'shark', 'carp', 'king crab']\n"
     ]
    }
   ],
   "source": [
    "# Instruction: append 'king crab' to the list organisms\n",
    "### your line here! \n",
    "\n",
    "# following lines check that 'king crab' is somewhere in the list.\n",
    "if not 'king crab' in organisms:\n",
    "    print('Error: you have not added \"king crab\" to organisms! Try again!')\n",
    "else:\n",
    "    print('Well done organisms now has a king crab in it:\\n', organisms)"
   ]
  },
  {
   "cell_type": "markdown",
   "metadata": {},
   "source": [
    "Lets add the king crab's number of chromosomes to list `chromosomes`. This time using concatenation rather than `.append()`"
   ]
  },
  {
   "cell_type": "code",
   "execution_count": 11,
   "metadata": {},
   "outputs": [
    {
     "name": "stdout",
     "output_type": "stream",
     "text": [
      "[8, 208]\n"
     ]
    }
   ],
   "source": [
    "# Instruction append 208 to the list chromosomes using concatenation\n",
    "### your line here! \n",
    "\n",
    "print(chromosomes)"
   ]
  },
  {
   "cell_type": "markdown",
   "metadata": {},
   "source": [
    "> *Hint: remember that you can only concentate two lists together so:*\n",
    "> ```\n",
    "> primes = [2, 3, 5]\n",
    ">primes += [7]\n",
    "> ```\n",
    "> *works fine whereas trying concentenate a list and an integer \n",
    "> will result in an error. So:*\n",
    "> ```\n",
    "> primes = [2, 3, 5]\n",
    "> primes += 7\n",
    "> ```\n",
    "> **will not work**"
   ]
  },
  {
   "cell_type": "markdown",
   "metadata": {},
   "source": [
    "Now lets you should add the red kings crab scientific name `Paralithodes camtschaticus` to the `scientific` list. "
   ]
  },
  {
   "cell_type": "code",
   "execution_count": 14,
   "metadata": {},
   "outputs": [
    {
     "name": "stdout",
     "output_type": "stream",
     "text": [
      "['Drosophila melanogaster', 'Oryza sativa', 'Mus musculus', 'Triticum aestivum', 'Homo sapiens', 'Solanum tuberosum', 'Carcharodon carcharias', 'Carassius carassius']\n"
     ]
    }
   ],
   "source": [
    "# Instruction append 'Paralithodes camtschaticus' to the list scientific\n",
    "### your line here! \n",
    "print(scientific)"
   ]
  },
  {
   "cell_type": "markdown",
   "metadata": {},
   "source": [
    "### finding number of items in a list using the `len()` function\n",
    "\n",
    "Reminder in exercise we saw that we use the `len()` function to find the number of letters in a string.\n",
    "\n",
    "This function will also return the number of items in a list.\n",
    "\n",
    "Try running the next cell\n"
   ]
  },
  {
   "cell_type": "code",
   "execution_count": 16,
   "metadata": {},
   "outputs": [
    {
     "name": "stdout",
     "output_type": "stream",
     "text": [
      "3\n"
     ]
    }
   ],
   "source": [
    "# Instruction: run this cell to see how len() works with lists.\n",
    "primes = [2, 3, 5]\n",
    "print(len(primes))"
   ]
  },
  {
   "cell_type": "markdown",
   "metadata": {},
   "source": [
    "**Now its your turn**"
   ]
  },
  {
   "cell_type": "code",
   "execution_count": 19,
   "metadata": {},
   "outputs": [
    {
     "name": "stdout",
     "output_type": "stream",
     "text": [
      "2 0 3\n"
     ]
    }
   ],
   "source": [
    "# Instruction: print out the number of items in the a_zero, empty and three_nones lists\n",
    "a_zero = ['a', 0]\n",
    "empty = []\n",
    "three_nones = [None, None, None]\n",
    "### your line here! "
   ]
  },
  {
   "cell_type": "markdown",
   "metadata": {},
   "source": [
    "Notice that a list can be empty - with nothing in it."
   ]
  },
  {
   "cell_type": "code",
   "execution_count": null,
   "metadata": {
    "collapsed": true
   },
   "outputs": [],
   "source": []
  }
 ],
 "metadata": {
  "kernelspec": {
   "display_name": "Python 3",
   "language": "python",
   "name": "python3"
  },
  "language_info": {
   "codemirror_mode": {
    "name": "ipython",
    "version": 3
   },
   "file_extension": ".py",
   "mimetype": "text/x-python",
   "name": "python",
   "nbconvert_exporter": "python",
   "pygments_lexer": "ipython3",
   "version": "3.6.3"
  }
 },
 "nbformat": 4,
 "nbformat_minor": 2
}
