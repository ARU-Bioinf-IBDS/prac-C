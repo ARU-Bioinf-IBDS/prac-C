{
 "cells": [
  {
   "cell_type": "markdown",
   "metadata": {},
   "source": [
    "# homework B: protein sequences \n",
    "\n",
    "Make sure you have worked through [workbook B](./workbook_B.ipynb)"
   ]
  },
  {
   "cell_type": "markdown",
   "metadata": {},
   "source": [
    "##  Working out the overall charge of a bee venom protein\n",
    "We have been working with nucleotide sequences. Now lets switch to proteins that are the things that do most of the work in biology. Proteins are polymers of amino acids joined by peptide bonds (you will learn alot about this in the course). There are twenty amino acid coded in genomes: "
   ]
  },
  {
   "cell_type": "markdown",
   "metadata": {},
   "source": [
    "<img src=\"https://upload.wikimedia.org/wikipedia/commons/5/51/Molecular_structures_of_the_21_proteinogenic_amino_acids.svg\" width=500/>\n",
    "**Image By Dan Cojocari, used under [Creative Commons License](https://creativecommons.org/licenses/by-sa/3.0), from Wikimedia Commons**"
   ]
  },
  {
   "cell_type": "markdown",
   "metadata": {},
   "source": [
    "So to represent a protein sequence we need 20 letters rather than the 4 needed for DNA sequences. The one letter code for each amino acid is show in the red circle above, for example \"Arginine\" that has a side chain with a positive charge has the one letter code `R`."
   ]
  },
  {
   "cell_type": "code",
   "execution_count": null,
   "metadata": {
    "collapsed": true
   },
   "outputs": [],
   "source": [
    "# add an exercise about amino acid sequence.\n",
    "raise NotImplementedError()"
   ]
  },
  {
   "cell_type": "markdown",
   "metadata": {},
   "source": [
    "## apamin\n",
    "Apamin is a bee venom toxin.\n",
    "\n",
    "<img src='https://upload.wikimedia.org/wikipedia/commons/b/b2/Stamps_of_Romania%2C_2010-04.jpg' width=150 align=\"left\"/> \n",
    "```\n",
    "\n",
    "```\n",
    "*. Stamp featuring honey bee, by Post of Romania [Public domain], via Wikimedia Commons*"
   ]
  },
  {
   "cell_type": "markdown",
   "metadata": {},
   "source": [
    "that has the sequence (from https://www.uniprot.org/uniprot/P01500):\n",
    "```\n",
    "CNCKAPETALCARRCQQH\n",
    "```\n",
    "Strickly speaking it is to short to be called a protein and should be called a polypeptide.\n",
    "It is a neurotoxin that works by blocking one of the potassium ion channels."
   ]
  },
  {
   "cell_type": "markdown",
   "metadata": {},
   "source": [
    "## Working out the number of charged residues and the overall charge of a protein\n",
    "\n",
    "The number of charged residues and overall charge of a protein are important properties that can indicate its solubility and give some indication as to where it acts.\n",
    "\n",
    "At neutral pH the positively charged amino acids are:\n",
    "```\n",
    "R Arginine\n",
    "H Histidine\n",
    "K Lysine\n",
    "```\n",
    "the negatively charged amino acids are:\n",
    "```\n",
    "D Aspartic Acid\n",
    "E Glutamic Acids\n",
    "```\n",
    "\n",
    "So to work out the number of charged amino acid:\n",
    "\n",
    "$$\n",
    "N_{charged} = N_R + N_H + N_K + N_D + N_E\n",
    "$$\n",
    "\n",
    "Where `N_R` is the number of arginines (R) in the sequence.\n",
    "\n",
    "The overall charge is: \n",
    "\n",
    "$$\n",
    "Charge_{overall} = (N_R + N_H + N_K) - (N_D + N_E)\n",
    "$$\n",
    "\n",
    "Your task it to work out the number of charged amino acids and the overall charge of apamin. "
   ]
  },
  {
   "cell_type": "code",
   "execution_count": null,
   "metadata": {},
   "outputs": [],
   "source": [
    "# first lets work on a shorter test sequence:\n",
    "sequence = 'RHKDER'\n",
    "\n",
    "# Instruction: your code to work n_charged\n",
    "\n",
    "# Instruction: your code to work total_charge\n",
    "\n",
    "\n",
    "assert n_charged == 6\n",
    "assert total_charge == 2"
   ]
  },
  {
   "cell_type": "markdown",
   "metadata": {},
   "source": [
    "Now apply your code to work out the number of charged residues and total charge of apamin."
   ]
  },
  {
   "cell_type": "code",
   "execution_count": null,
   "metadata": {
    "collapsed": true
   },
   "outputs": [],
   "source": [
    "sequence = 'CNCKAPETALCARRCQQH'  # apamin\n",
    "# Instruction: your code to work n_charged\n",
    "\n",
    "# Instruction: your code to work total_charge\n",
    "\n",
    "# Instruction: print out the results"
   ]
  },
  {
   "cell_type": "markdown",
   "metadata": {},
   "source": [
    "Question: is apamin basic (total charge positive) or acidic (total charge negative)?"
   ]
  },
  {
   "cell_type": "code",
   "execution_count": null,
   "metadata": {
    "collapsed": true
   },
   "outputs": [],
   "source": [
    "# Instruction: print out whether apamin is basic or acid"
   ]
  },
  {
   "cell_type": "markdown",
   "metadata": {},
   "source": [
    "One of the folk remedies for treating bee stings is to rub with vingear (acetic acid). Is this justified?\n",
    "\n",
    "Read https://www.insectstings.co.uk/bee-sting-acid-or-alkali/"
   ]
  },
  {
   "cell_type": "markdown",
   "metadata": {},
   "source": [
    "Now work out the percentage charged residues in apamin and print this reporting one decimal place."
   ]
  },
  {
   "cell_type": "code",
   "execution_count": null,
   "metadata": {
    "collapsed": true
   },
   "outputs": [],
   "source": [
    "# Instruction: print out the percentage charged residues \n",
    "# in apamin and print this reporting one decimal place."
   ]
  },
  {
   "cell_type": "code",
   "execution_count": null,
   "metadata": {
    "collapsed": true
   },
   "outputs": [],
   "source": []
  }
 ],
 "metadata": {
  "kernelspec": {
   "display_name": "Python 3",
   "language": "python",
   "name": "python3"
  },
  "language_info": {
   "codemirror_mode": {
    "name": "ipython",
    "version": 3
   },
   "file_extension": ".py",
   "mimetype": "text/x-python",
   "name": "python",
   "nbconvert_exporter": "python",
   "pygments_lexer": "ipython3",
   "version": "3.6.3"
  }
 },
 "nbformat": 4,
 "nbformat_minor": 2
}
